{
 "cells": [
  {
   "cell_type": "code",
   "execution_count": 95,
   "metadata": {
    "collapsed": true,
    "ExecuteTime": {
     "end_time": "2023-07-27T10:48:23.903249814Z",
     "start_time": "2023-07-27T10:48:23.895774249Z"
    }
   },
   "outputs": [],
   "source": [
    "import torch\n",
    "import utils\n",
    "import matplotlib.pyplot as plt\n",
    "import torch.nn.functional as F"
   ]
  },
  {
   "cell_type": "code",
   "execution_count": 190,
   "outputs": [
    {
     "data": {
      "text/plain": "<Figure size 640x480 with 1 Axes>",
      "image/png": "[encoded data removed]"
     },
     "metadata": {},
     "output_type": "display_data"
    }
   ],
   "source": [
    "data = utils.test_data[21]\n",
    "plt.imshow(data[0].detach().numpy().transpose(1, 2, 0))\n",
    "#plt.hlines([i + 0.5 for i in range(32)], xmin=0, xmax=32, colors='lightgrey')\n",
    "#plt.vlines([i + 0.5 for i in range(32)], ymin=0, ymax=32, colors='lightgrey')\n",
    "plt.xlim(0, 32)\n",
    "plt.ylim(32, 0)\n",
    "plt.show()"
   ],
   "metadata": {
    "collapsed": false,
    "ExecuteTime": {
     "end_time": "2023-07-27T12:38:54.201752939Z",
     "start_time": "2023-07-27T12:38:53.996952138Z"
    }
   }
  },
  {
   "cell_type": "code",
   "execution_count": 30,
   "outputs": [],
   "source": [
    "image = data[0]"
   ],
   "metadata": {
    "collapsed": false,
    "ExecuteTime": {
     "end_time": "2023-07-27T09:19:01.771801146Z",
     "start_time": "2023-07-27T09:19:01.742436836Z"
    }
   }
  },
  {
   "cell_type": "code",
   "execution_count": 36,
   "outputs": [
    {
     "data": {
      "text/plain": "(tensor(0.0275), tensor(0.0314), tensor(0.0431))"
     },
     "execution_count": 36,
     "metadata": {},
     "output_type": "execute_result"
    }
   ],
   "source": [
    "torch.max(torch.abs(image[0] - image[1])), torch.max(torch.abs(image[0] - image[2])), torch.max(torch.abs(image[1] - image[2]))"
   ],
   "metadata": {
    "collapsed": false,
    "ExecuteTime": {
     "end_time": "2023-07-27T09:20:42.680618159Z",
     "start_time": "2023-07-27T09:20:42.638772741Z"
    }
   }
  },
  {
   "cell_type": "code",
   "execution_count": 157,
   "outputs": [
    {
     "data": {
      "text/plain": "<Figure size 640x480 with 1 Axes>",
      "image/png": "[encoded data removed]"
     },
     "metadata": {},
     "output_type": "display_data"
    }
   ],
   "source": [
    "x0 = torch.zeros((3, 32, 6))\n",
    "x1 = torch.zeros((3, 32, 1))\n",
    "x1[:, 16, 0] = 1\n",
    "x2 = torch.zeros((3, 32, 3))\n",
    "x2[:, 14:18, :] = 1\n",
    "x3 = torch.zeros((3, 32, 3))\n",
    "x3[:, 13:19, :] = 1\n",
    "x4 = torch.zeros((3, 32, 3))\n",
    "x4[:, 12:20, :] = 1\n",
    "x5 = torch.zeros((3, 32, 1))\n",
    "x5[:, 10:21, :] = 1\n",
    "y0 = torch.zeros(3, 16, 2)\n",
    "y0[:, 10:15, :] = 1\n",
    "y1 = torch.zeros(3, 16, 2)\n",
    "y1[:, 4:6, :] = 1\n",
    "x6 = torch.concat((y0, y1), dim=1)\n",
    "y0 = torch.zeros(3, 10, 2)\n",
    "y0[:, 8:10, :] = 1\n",
    "y1 = torch.zeros(3, 22, 2)\n",
    "y1[:, 2:4, :] = 1\n",
    "x7 = torch.concat((y0, y1), dim=1)\n",
    "y0 = torch.zeros(3, 10, 2)\n",
    "y0[:, 6:8, :] = 1\n",
    "y1 = torch.zeros(3, 22, 2)\n",
    "y1[:, 1:3, :] = 1\n",
    "x8 = torch.concat((y0, y1), dim=1)\n",
    "\n",
    "x = torch.concat((x0, x1, x2, x3, x4, x5, x6, x7, x8), dim=2)\n",
    "y = F.avg_pool2d(x, kernel_size=3, stride=1, padding=1)\n",
    "x = 0.9 * y + 0.1 * x\n",
    "x = 1 - x\n",
    "plt.imshow(x.detach().numpy().transpose(1, 2, 0))\n",
    "#plt.hlines([i + 0.5 for i in range(32)], xmin=0, xmax=32, colors='lightgrey')\n",
    "#plt.vlines([i + 0.5 for i in range(32)], ymin=0, ymax=32, colors='lightgrey')\n",
    "plt.show()"
   ],
   "metadata": {
    "collapsed": false,
    "ExecuteTime": {
     "end_time": "2023-07-27T11:02:00.012165001Z",
     "start_time": "2023-07-27T11:01:59.814560565Z"
    }
   }
  },
  {
   "cell_type": "code",
   "execution_count": 204,
   "outputs": [
    {
     "data": {
      "text/plain": "<Figure size 640x480 with 1 Axes>",
      "image/png": "[encoded data removed]"
     },
     "metadata": {},
     "output_type": "display_data"
    }
   ],
   "source": [
    "x = torch.ones(3, 32, 32)\n",
    "set_to_half = torch.argwhere(torch.mean(image, dim=0) < 2/3)\n",
    "x[:, points[:, 0], points[:, 1]] = 0.5\n",
    "set_to_zero = torch.argwhere(torch.mean(image, dim=0) < 1/3)\n",
    "x[:, points[:, 0], points[:, 1]] = 0\n",
    "plt.imshow(x.detach().numpy().transpose(1, 2, 0), cmap='Greys')\n",
    "plt.show()"
   ],
   "metadata": {
    "collapsed": false,
    "ExecuteTime": {
     "end_time": "2023-07-27T12:46:57.586588764Z",
     "start_time": "2023-07-27T12:46:57.372062035Z"
    }
   }
  },
  {
   "cell_type": "code",
   "execution_count": 201,
   "outputs": [
    {
     "data": {
      "text/plain": "tensor([[ 6, 16],\n        [ 7, 15],\n        [ 7, 16],\n        [ 8, 14],\n        [ 8, 15],\n        [ 8, 16],\n        [ 8, 17],\n        [ 9, 14],\n        [ 9, 15],\n        [ 9, 16],\n        [ 9, 17],\n        [10, 13],\n        [10, 14],\n        [10, 15],\n        [10, 16],\n        [10, 17],\n        [10, 18],\n        [11, 13],\n        [11, 14],\n        [11, 15],\n        [11, 16],\n        [11, 17],\n        [11, 18],\n        [12, 13],\n        [12, 14],\n        [12, 15],\n        [12, 16],\n        [12, 17],\n        [12, 18],\n        [12, 19],\n        [13, 12],\n        [13, 13],\n        [13, 14],\n        [13, 15],\n        [13, 16],\n        [13, 17],\n        [13, 18],\n        [13, 19],\n        [14, 12],\n        [14, 13],\n        [14, 14],\n        [14, 15],\n        [14, 16],\n        [14, 17],\n        [14, 18],\n        [14, 19],\n        [14, 20],\n        [15, 11],\n        [15, 12],\n        [15, 13],\n        [15, 14],\n        [15, 15],\n        [15, 16],\n        [15, 17],\n        [15, 18],\n        [15, 19],\n        [15, 20],\n        [16, 11],\n        [16, 12],\n        [16, 13],\n        [16, 14],\n        [16, 15],\n        [16, 16],\n        [16, 17],\n        [16, 18],\n        [16, 19],\n        [16, 20],\n        [16, 21],\n        [17, 10],\n        [17, 11],\n        [17, 12],\n        [17, 13],\n        [17, 14],\n        [17, 15],\n        [17, 16],\n        [17, 17],\n        [17, 18],\n        [17, 19],\n        [17, 20],\n        [17, 21],\n        [18, 10],\n        [18, 11],\n        [18, 12],\n        [18, 13],\n        [18, 14],\n        [18, 15],\n        [18, 16],\n        [18, 20],\n        [18, 21],\n        [19,  9],\n        [19, 10],\n        [19, 11],\n        [19, 12],\n        [19, 13],\n        [19, 14],\n        [19, 15],\n        [20,  8],\n        [20,  9],\n        [20, 10],\n        [20, 12],\n        [20, 13],\n        [20, 14],\n        [21,  8],\n        [21,  9],\n        [21, 11],\n        [21, 12],\n        [21, 13],\n        [21, 14],\n        [22,  7],\n        [22,  8],\n        [22, 10],\n        [22, 11],\n        [22, 12],\n        [23,  7],\n        [23,  8],\n        [23, 10],\n        [23, 11]])"
     },
     "execution_count": 201,
     "metadata": {},
     "output_type": "execute_result"
    }
   ],
   "source": [
    "torch.argwhere(torch.mean(image.transpose(2, 1), dim=0) < 0.6)"
   ],
   "metadata": {
    "collapsed": false,
    "ExecuteTime": {
     "end_time": "2023-07-27T12:42:26.933756500Z",
     "start_time": "2023-07-27T12:42:26.922153288Z"
    }
   }
  },
  {
   "cell_type": "code",
   "execution_count": 223,
   "outputs": [],
   "source": [
    "x = torch.randn(2, 3, 32, 32)\n",
    "zero = torch.amin(x - x, dim=(1, 2, 3), keepdim=True)\n",
    "half = F.sigmoid(zero)\n",
    "first = torch.concat([torch.concat([zero if torch.mean(image[:, i, j]) < 1/3 else half for j in range(32)], dim=3) for i in range(32)], dim=2)\n",
    "second = torch.concat([torch.concat([zero if torch.mean(image[:, i, j]) < 2/3 else half for j in range(32)], dim=3) for i in range(32)], dim=2)\n",
    "target = first + second\n",
    "torch.concat((target, + target, target))"
   ],
   "metadata": {
    "collapsed": false,
    "ExecuteTime": {
     "end_time": "2023-07-27T12:54:02.046936136Z",
     "start_time": "2023-07-27T12:54:01.941543153Z"
    }
   }
  },
  {
   "cell_type": "code",
   "execution_count": 224,
   "outputs": [
    {
     "data": {
      "text/plain": "<Figure size 640x480 with 1 Axes>",
      "image/png": "[encoded data removed]"
     },
     "metadata": {},
     "output_type": "display_data"
    }
   ],
   "source": [
    "plt.imshow(target[0].detach().numpy().transpose(1, 2, 0))\n",
    "plt.show()"
   ],
   "metadata": {
    "collapsed": false,
    "ExecuteTime": {
     "end_time": "2023-07-27T12:54:02.770787141Z",
     "start_time": "2023-07-27T12:54:02.565321267Z"
    }
   }
  },
  {
   "cell_type": "code",
   "execution_count": 240,
   "outputs": [],
   "source": [
    "import pyperclip\n",
    "pyperclip.copy(str([[torch.mean(image[:, i, j]).item() < 1/3 for j in range(32)]for i in range(32)]))"
   ],
   "metadata": {
    "collapsed": false,
    "ExecuteTime": {
     "end_time": "2023-07-27T13:02:52.808888601Z",
     "start_time": "2023-07-27T13:02:52.742737261Z"
    }
   }
  },
  {
   "cell_type": "code",
   "execution_count": null,
   "outputs": [],
   "source": [
    "x = torch.randn(2, 3, 32, 32)\n",
    "zero = torch.amin(x - x, dim=(2,3), keepdim=True)\n",
    "half = F.sigmoid(zero)\n",
    "first = torch.concat([torch.concat([zero if torch.mean(image[:, i, j]) < 1/3 else half for j in range(32)], dim=3) for i in range(32)], dim=2)\n",
    "second = torch.concat([torch.concat([zero if torch.mean(image[:, i, j]) < 2/3 else half for j in range(32)], dim=3) for i in range(32)], dim=2)\n",
    "target = first + second"
   ],
   "metadata": {
    "collapsed": false
   }
  }
 ],
 "metadata": {
  "kernelspec": {
   "display_name": "Python 3",
   "language": "python",
   "name": "python3"
  },
  "language_info": {
   "codemirror_mode": {
    "name": "ipython",
    "version": 2
   },
   "file_extension": ".py",
   "mimetype": "text/x-python",
   "name": "python",
   "nbconvert_exporter": "python",
   "pygments_lexer": "ipython2",
   "version": "2.7.6"
  }
 },
 "nbformat": 4,
 "nbformat_minor": 0
}
